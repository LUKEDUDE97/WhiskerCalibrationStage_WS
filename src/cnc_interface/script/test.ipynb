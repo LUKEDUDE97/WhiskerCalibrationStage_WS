{
 "cells": [
  {
   "cell_type": "code",
   "execution_count": 1,
   "metadata": {},
   "outputs": [],
   "source": [
    "import serial\n",
    "import time"
   ]
  },
  {
   "cell_type": "code",
   "execution_count": 3,
   "metadata": {},
   "outputs": [],
   "source": [
    "ser = serial.Serial(\"/dev/ttyUSB0\", 115200)"
   ]
  },
  {
   "cell_type": "code",
   "execution_count": 4,
   "metadata": {},
   "outputs": [],
   "source": [
    "# wake up\n",
    "\n",
    "ser.write(\"\\r\\n\\r\\n\".encode())\n",
    "time.sleep(2)\n",
    "ser.flushInput()"
   ]
  },
  {
   "cell_type": "code",
   "execution_count": 6,
   "metadata": {},
   "outputs": [
    {
     "ename": "KeyboardInterrupt",
     "evalue": "",
     "output_type": "error",
     "traceback": [
      "\u001b[0;31m---------------------------------------------------------------------------\u001b[0m",
      "\u001b[0;31mKeyboardInterrupt\u001b[0m                         Traceback (most recent call last)",
      "\u001b[1;32m/home/lukedude/project/whisker_calibrationstage_ws/src/cnc_interface/script/test.ipynb Cell 4\u001b[0m line \u001b[0;36m4\n\u001b[1;32m      <a href='vscode-notebook-cell:/home/lukedude/project/whisker_calibrationstage_ws/src/cnc_interface/script/test.ipynb#W3sZmlsZQ%3D%3D?line=0'>1</a>\u001b[0m \u001b[39m# homing\u001b[39;00m\n\u001b[1;32m      <a href='vscode-notebook-cell:/home/lukedude/project/whisker_calibrationstage_ws/src/cnc_interface/script/test.ipynb#W3sZmlsZQ%3D%3D?line=2'>3</a>\u001b[0m ser\u001b[39m.\u001b[39mwrite(\u001b[39m\"\u001b[39m\u001b[39m$H\u001b[39m\u001b[39m\\n\u001b[39;00m\u001b[39m\"\u001b[39m\u001b[39m.\u001b[39mencode())\n\u001b[0;32m----> <a href='vscode-notebook-cell:/home/lukedude/project/whisker_calibrationstage_ws/src/cnc_interface/script/test.ipynb#W3sZmlsZQ%3D%3D?line=3'>4</a>\u001b[0m \u001b[39mprint\u001b[39m(ser\u001b[39m.\u001b[39;49mreadline())\n",
      "File \u001b[0;32m~/miniconda3/lib/python3.11/site-packages/serial/serialposix.py:565\u001b[0m, in \u001b[0;36mSerial.read\u001b[0;34m(self, size)\u001b[0m\n\u001b[1;32m    563\u001b[0m \u001b[39mwhile\u001b[39;00m \u001b[39mlen\u001b[39m(read) \u001b[39m<\u001b[39m size:\n\u001b[1;32m    564\u001b[0m     \u001b[39mtry\u001b[39;00m:\n\u001b[0;32m--> 565\u001b[0m         ready, _, _ \u001b[39m=\u001b[39m select\u001b[39m.\u001b[39;49mselect([\u001b[39mself\u001b[39;49m\u001b[39m.\u001b[39;49mfd, \u001b[39mself\u001b[39;49m\u001b[39m.\u001b[39;49mpipe_abort_read_r], [], [], timeout\u001b[39m.\u001b[39;49mtime_left())\n\u001b[1;32m    566\u001b[0m         \u001b[39mif\u001b[39;00m \u001b[39mself\u001b[39m\u001b[39m.\u001b[39mpipe_abort_read_r \u001b[39min\u001b[39;00m ready:\n\u001b[1;32m    567\u001b[0m             os\u001b[39m.\u001b[39mread(\u001b[39mself\u001b[39m\u001b[39m.\u001b[39mpipe_abort_read_r, \u001b[39m1000\u001b[39m)\n",
      "\u001b[0;31mKeyboardInterrupt\u001b[0m: "
     ]
    }
   ],
   "source": [
    "# homing\n",
    "        \n",
    "ser.write(\"$H\\n\".encode())\n",
    "print(ser.readline())"
   ]
  },
  {
   "cell_type": "code",
   "execution_count": 5,
   "metadata": {},
   "outputs": [
    {
     "name": "stdout",
     "output_type": "stream",
     "text": [
      "b'<Alarm|MPos:0.000,0.000,0.000|FS:0,0|Pn:Z|WCO:3.496,0.696,0.000>\\r\\n'\n"
     ]
    }
   ],
   "source": [
    "# access device status\n",
    "\n",
    "ser.write(\"?\".encode())\n",
    "print(ser.readline())"
   ]
  },
  {
   "cell_type": "markdown",
   "metadata": {},
   "source": [
    "# Access device status and update pos "
   ]
  },
  {
   "cell_type": "code",
   "execution_count": 9,
   "metadata": {},
   "outputs": [],
   "source": [
    "import re\n",
    "\n",
    "__pos_pattern__ = re.compile('.Pos:(\\-?\\d+\\.\\d+),(\\-?\\d+\\.\\d+),(\\-?\\d+\\.\\d+)')\t"
   ]
  },
  {
   "cell_type": "code",
   "execution_count": 10,
   "metadata": {},
   "outputs": [],
   "source": [
    "pos = [0.0, 0.0, 0.0]"
   ]
  },
  {
   "cell_type": "code",
   "execution_count": 11,
   "metadata": {},
   "outputs": [
    {
     "data": {
      "text/plain": [
       "['-399.004', '-198.999', '0.000']"
      ]
     },
     "execution_count": 11,
     "metadata": {},
     "output_type": "execute_result"
    }
   ],
   "source": [
    "# access device status : loopin\n",
    "\n",
    "def get_status():\n",
    "\n",
    "    ser.write(\"?\".encode())\n",
    "\n",
    "    while True:\n",
    "        try:\n",
    "            status = ser.readline()\n",
    "            if status is not None:\n",
    "                try: \n",
    "                    matches = __pos_pattern__.findall(status.decode())  # Type of Matches : list(tuple)                   \n",
    "                    if len(matches[0]) == 3:\n",
    "                        pos = list(matches[0])\n",
    "                    return pos, status\n",
    "                except IndexError:\n",
    "                    print(\"No matches found in serial\")\n",
    "            else: break\n",
    "        except:\n",
    "            print(\"Report readiness but empty\")\n",
    "\n",
    "    # status = ser.readline()\n",
    "    # matches = __pos_pattern__.findall(status.decode())\n",
    "    # return matches\n",
    "\n",
    "get_status()[0]"
   ]
  }
 ],
 "metadata": {
  "kernelspec": {
   "display_name": "base",
   "language": "python",
   "name": "python3"
  },
  "language_info": {
   "codemirror_mode": {
    "name": "ipython",
    "version": 3
   },
   "file_extension": ".py",
   "mimetype": "text/x-python",
   "name": "python",
   "nbconvert_exporter": "python",
   "pygments_lexer": "ipython3",
   "version": "3.11.5"
  }
 },
 "nbformat": 4,
 "nbformat_minor": 2
}
