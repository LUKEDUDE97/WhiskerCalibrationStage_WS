{
 "cells": [
  {
   "cell_type": "code",
   "execution_count": 1,
   "metadata": {},
   "outputs": [],
   "source": [
    "import serial\n",
    "import time"
   ]
  },
  {
   "cell_type": "code",
   "execution_count": 2,
   "metadata": {},
   "outputs": [],
   "source": [
    "ser = serial.Serial(\"/dev/ttyUSB2\", 115200)"
   ]
  },
  {
   "cell_type": "code",
   "execution_count": 3,
   "metadata": {},
   "outputs": [],
   "source": [
    "# wake up\n",
    "\n",
    "ser.write(\"\\r\\n\\r\\n\".encode())\n",
    "time.sleep(2)\n",
    "ser.flushInput()"
   ]
  },
  {
   "cell_type": "code",
   "execution_count": 4,
   "metadata": {},
   "outputs": [
    {
     "name": "stdout",
     "output_type": "stream",
     "text": [
      "b'ok\\r\\n'\n"
     ]
    }
   ],
   "source": [
    "# homing\n",
    "        \n",
    "ser.write(\"$H\\n\".encode())\n",
    "print(ser.readline())"
   ]
  },
  {
   "cell_type": "code",
   "execution_count": 5,
   "metadata": {},
   "outputs": [
    {
     "name": "stdout",
     "output_type": "stream",
     "text": [
      "b'<Idle|MPos:-399.004,-198.999,0.000|FS:0,0|Pn:Z|WCO:8.000,11.000,0.000>\\r\\n'\n"
     ]
    }
   ],
   "source": [
    "# access device status\n",
    "\n",
    "ser.write(\"?\".encode())\n",
    "print(ser.readline())"
   ]
  },
  {
   "cell_type": "markdown",
   "metadata": {},
   "source": [
    "# Access device status and update pos "
   ]
  },
  {
   "cell_type": "code",
   "execution_count": 6,
   "metadata": {},
   "outputs": [],
   "source": [
    "import re\n",
    "\n",
    "__pos_pattern__ = re.compile('.Pos:(\\-?\\d+\\.\\d+),(\\-?\\d+\\.\\d+),(\\-?\\d+\\.\\d+)')\t"
   ]
  },
  {
   "cell_type": "code",
   "execution_count": 7,
   "metadata": {},
   "outputs": [],
   "source": [
    "pos = [0.0, 0.0, 0.0]"
   ]
  },
  {
   "cell_type": "code",
   "execution_count": 44,
   "metadata": {},
   "outputs": [
    {
     "data": {
      "text/plain": [
       "['-399.004', '-198.999', '0.000']"
      ]
     },
     "execution_count": 44,
     "metadata": {},
     "output_type": "execute_result"
    }
   ],
   "source": [
    "# access device status : loopin\n",
    "\n",
    "def get_status():\n",
    "\n",
    "    ser.write(\"?\".encode())\n",
    "\n",
    "    while True:\n",
    "        try:\n",
    "            status = ser.readline()\n",
    "            if status is not None:\n",
    "                try: \n",
    "                    matches = __pos_pattern__.findall(status.decode())  # Type of Matches : list(tuple)                   \n",
    "                    if len(matches[0]) == 3:\n",
    "                        pos = list(matches[0])\n",
    "                    return pos, status\n",
    "                except IndexError:\n",
    "                    print(\"No matches found in serial\")\n",
    "            else: break\n",
    "        except:\n",
    "            print(\"Report readiness but empty\")\n",
    "\n",
    "    # status = ser.readline()\n",
    "    # matches = __pos_pattern__.findall(status.decode())\n",
    "    # return matches\n",
    "\n",
    "get_status()[0]"
   ]
  }
 ],
 "metadata": {
  "kernelspec": {
   "display_name": "base",
   "language": "python",
   "name": "python3"
  },
  "language_info": {
   "codemirror_mode": {
    "name": "ipython",
    "version": 3
   },
   "file_extension": ".py",
   "mimetype": "text/x-python",
   "name": "python",
   "nbconvert_exporter": "python",
   "pygments_lexer": "ipython3",
   "version": "3.11.5"
  }
 },
 "nbformat": 4,
 "nbformat_minor": 2
}
