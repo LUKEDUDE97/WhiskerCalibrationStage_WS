{
 "cells": [
  {
   "cell_type": "code",
   "execution_count": 1,
   "metadata": {},
   "outputs": [],
   "source": [
    "import serial\n",
    "import time"
   ]
  },
  {
   "cell_type": "code",
   "execution_count": 3,
   "metadata": {},
   "outputs": [],
   "source": [
    "ser = serial.Serial(\"/dev/ttyUSB0\", 115200)"
   ]
  },
  {
   "cell_type": "code",
   "execution_count": 3,
   "metadata": {},
   "outputs": [],
   "source": [
    "# wake up\n",
    "\n",
    "ser.write(\"\\r\\n\\r\\n\".encode())\n",
    "time.sleep(2)\n",
    "ser.flushInput()"
   ]
  },
  {
   "cell_type": "code",
   "execution_count": 4,
   "metadata": {},
   "outputs": [
    {
     "name": "stdout",
     "output_type": "stream",
     "text": [
      "b'ALARM:8\\r\\n'\n"
     ]
    }
   ],
   "source": [
    "# # homing\n",
    "        \n",
    "# ser.write(\"$H\\n\".encode())\n",
    "# print(ser.readline())"
   ]
  },
  {
   "cell_type": "code",
   "execution_count": 11,
   "metadata": {},
   "outputs": [],
   "source": [
    "# access device status\n",
    "\n",
    "ser.write(\"$\".encode())\n",
    "print(ser.readline())"
   ]
  },
  {
   "cell_type": "code",
   "execution_count": 4,
   "metadata": {},
   "outputs": [
    {
     "name": "stdout",
     "output_type": "stream",
     "text": [
      "b'[MSG:Caution: Unlocked]\\r\\n'\n",
      "b'ok\\r\\n'\n",
      "b'ok\\r\\n'\n"
     ]
    }
   ],
   "source": [
    "ser.write(\"$X\\n\".encode())\n",
    "print(ser.readline())\n",
    "ser.write(\"X0\\n\".encode())\n",
    "print(ser.readline())\n",
    "ser.write(\"Y0\\n\".encode())\n",
    "print(ser.readline())"
   ]
  },
  {
   "cell_type": "code",
   "execution_count": 13,
   "metadata": {},
   "outputs": [
    {
     "name": "stdout",
     "output_type": "stream",
     "text": [
      "b'ok\\r\\n'\n",
      "b'ok\\r\\n'\n"
     ]
    }
   ],
   "source": [
    "Y_start = 115\n",
    "Y_end = 165\n",
    "X_start = 5\n",
    "X_mid = 50\n",
    "X_end = 95\n",
    "ser.write((\"Y\" + str(Y_start) + \"\\n\").encode())\n",
    "print(ser.readline())\n",
    "# move to X_mid, ready to start measure\n",
    "ser.write((\"X\" + str(X_mid) + \"\\n\").encode())\n",
    "print(ser.readline())"
   ]
  },
  {
   "cell_type": "markdown",
   "metadata": {},
   "source": [
    "# Access device status and update pos "
   ]
  },
  {
   "cell_type": "code",
   "execution_count": 6,
   "metadata": {},
   "outputs": [],
   "source": [
    "import re\n",
    "\n",
    "__pos_pattern__ = re.compile('.Pos:(\\-?\\d+\\.\\d+),(\\-?\\d+\\.\\d+),(\\-?\\d+\\.\\d+)')\t"
   ]
  },
  {
   "cell_type": "code",
   "execution_count": 7,
   "metadata": {},
   "outputs": [],
   "source": [
    "pos = [0.0, 0.0, 0.0]"
   ]
  },
  {
   "cell_type": "code",
   "execution_count": 44,
   "metadata": {},
   "outputs": [
    {
     "data": {
      "text/plain": [
       "['-399.004', '-198.999', '0.000']"
      ]
     },
     "execution_count": 44,
     "metadata": {},
     "output_type": "execute_result"
    }
   ],
   "source": [
    "# access device status : loopin\n",
    "\n",
    "def get_status():\n",
    "\n",
    "    ser.write(\"?\".encode())\n",
    "\n",
    "    while True:\n",
    "        try:\n",
    "            status = ser.readline()\n",
    "            if status is not None:\n",
    "                try: \n",
    "                    matches = __pos_pattern__.findall(status.decode())  # Type of Matches : list(tuple)                   \n",
    "                    if len(matches[0]) == 3:\n",
    "                        pos = list(matches[0])\n",
    "                    return pos, status\n",
    "                except IndexError:\n",
    "                    print(\"No matches found in serial\")\n",
    "            else: break\n",
    "        except:\n",
    "            print(\"Report readiness but empty\")\n",
    "\n",
    "    # status = ser.readline()\n",
    "    # matches = __pos_pattern__.findall(status.decode())\n",
    "    # return matches\n",
    "\n",
    "get_status()[0]"
   ]
  }
 ],
 "metadata": {
  "kernelspec": {
   "display_name": "base",
   "language": "python",
   "name": "python3"
  },
  "language_info": {
   "codemirror_mode": {
    "name": "ipython",
    "version": 3
   },
   "file_extension": ".py",
   "mimetype": "text/x-python",
   "name": "python",
   "nbconvert_exporter": "python",
   "pygments_lexer": "ipython3",
   "version": "3.11.5"
  }
 },
 "nbformat": 4,
 "nbformat_minor": 2
}
